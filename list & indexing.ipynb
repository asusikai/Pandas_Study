{
 "cells": [
  {
   "cell_type": "code",
   "execution_count": 12,
   "metadata": {},
   "outputs": [
    {
     "name": "stdout",
     "output_type": "stream",
     "text": [
      "[1, 2, 3, 10]\n",
      "['hello', 'world', 'its', 'nice', 'weather']\n",
      "['123', '345', '4555', '44']\n"
     ]
    }
   ],
   "source": [
    "a= [1,2,3,10]\n",
    "print(a)\n",
    "\n",
    "c= \"hello world its nice weather\"\n",
    "b= c.split()\n",
    "print(b)\n",
    "\n",
    "st = \"123 345 4555 44\"\n",
    "sp = st.split()\n",
    "print(sp)"
   ]
  },
  {
   "cell_type": "code",
   "execution_count": 17,
   "metadata": {},
   "outputs": [
    {
     "name": "stdout",
     "output_type": "stream",
     "text": [
      "6\n",
      "5\n"
     ]
    }
   ],
   "source": [
    "a = [1,2,3,4,5,6]\n",
    "print(a[-1])\n",
    "\n",
    "print(a[-2])"
   ]
  },
  {
   "cell_type": "code",
   "execution_count": 23,
   "metadata": {},
   "outputs": [
    {
     "name": "stdout",
     "output_type": "stream",
     "text": [
      "hello world\n",
      "jello world\n"
     ]
    }
   ],
   "source": [
    "#문자열 안의 내용 변경하기(불가능)\n",
    "#튜플과 문자열 안의 내용은 수정 불가능\n",
    "a= 'hello world'\n",
    "b= \"hello world\"\n",
    "\n",
    "#b[0]='y'\n",
    "\n",
    "print(b)\n",
    "\n",
    "print(a.replace(\"h\",\"j\"))\n"
   ]
  },
  {
   "cell_type": "code",
   "execution_count": 34,
   "metadata": {},
   "outputs": [
    {
     "name": "stdout",
     "output_type": "stream",
     "text": [
      "[9, 8, 7, 6]\n",
      "[5, 6, 7, 8]\n",
      "[9, 8, 7, 6]\n"
     ]
    }
   ],
   "source": [
    "#index slicing\n",
    "#start:end:increment\n",
    "\n",
    "a = [0,1,2,3,4,5,6,7,8,9]\n",
    "\n",
    "print(a[-1:-5:-1])\n",
    "print(a[-5:-1])\n",
    "print(a[9:5:-1])"
   ]
  },
  {
   "cell_type": "code",
   "execution_count": 36,
   "metadata": {},
   "outputs": [
    {
     "name": "stdout",
     "output_type": "stream",
     "text": [
      "[1, 2, 3, 4, 10]\n"
     ]
    }
   ],
   "source": [
    "#append\n",
    "\n",
    "a=[1,2,3,4]\n",
    "a.append(10)\n",
    "print(a)"
   ]
  },
  {
   "cell_type": "code",
   "execution_count": 40,
   "metadata": {},
   "outputs": [
    {
     "name": "stdout",
     "output_type": "stream",
     "text": [
      "[0, 1, 2, 3]\n",
      "[4, 5, 6, 7, 0, 1, 2, 3]\n"
     ]
    }
   ],
   "source": [
    "#extend\n",
    "\n",
    "a = [0,1,2,3]\n",
    "b = [4,5,6,7]\n",
    "\n",
    "#a.extend(b)\n",
    "b+=a\n",
    "print(a)\n",
    "print(b)"
   ]
  },
  {
   "cell_type": "code",
   "execution_count": 42,
   "metadata": {},
   "outputs": [
    {
     "name": "stdout",
     "output_type": "stream",
     "text": [
      "[-1, 0, 1, 2, 3, 4]\n"
     ]
    }
   ],
   "source": [
    "#insert\n",
    "\n",
    "a = [0,1,2,3,4]\n",
    "#a.insert(위치-index, 값-object)\n",
    "\n",
    "a.insert(0,-1)\n",
    "print(a)"
   ]
  },
  {
   "cell_type": "code",
   "execution_count": 45,
   "metadata": {},
   "outputs": [
    {
     "name": "stdout",
     "output_type": "stream",
     "text": [
      "[0, 10, 25]\n"
     ]
    }
   ],
   "source": [
    "#remove -> x.remove(value)\n",
    "#같은 값이 여러 개 있을 경우 맨앞의 값을 지운다\n",
    "#value 값이 해당 리스트 안에 없을 경우 error 발생 후 프로그램 중지\n",
    "a=[0,10,25,400]\n",
    "a.remove(400)\n",
    "\n",
    "print(a)"
   ]
  },
  {
   "cell_type": "code",
   "execution_count": 47,
   "metadata": {},
   "outputs": [
    {
     "name": "stdout",
     "output_type": "stream",
     "text": [
      "2\n"
     ]
    }
   ],
   "source": [
    "#index - 찾고자하는 index 반환\n",
    "\n",
    "print(a.index(10)+1)\n"
   ]
  }
 ],
 "metadata": {
  "kernelspec": {
   "display_name": "Python 3",
   "language": "python",
   "name": "python3"
  },
  "language_info": {
   "codemirror_mode": {
    "name": "ipython",
    "version": 3
   },
   "file_extension": ".py",
   "mimetype": "text/x-python",
   "name": "python",
   "nbconvert_exporter": "python",
   "pygments_lexer": "ipython3",
   "version": "3.7.3"
  }
 },
 "nbformat": 4,
 "nbformat_minor": 2
}
