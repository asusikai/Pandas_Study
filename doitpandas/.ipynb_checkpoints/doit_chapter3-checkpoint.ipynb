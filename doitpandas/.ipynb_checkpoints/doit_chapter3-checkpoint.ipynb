{
 "cells": [
  {
   "cell_type": "markdown",
   "metadata": {},
   "source": [
    "# Doit! 판다스 입문\n",
    "\n",
    "# 3장 판다스 데이터프레임과 시리즈"
   ]
  },
  {
   "cell_type": "code",
   "execution_count": 2,
   "metadata": {},
   "outputs": [
    {
     "name": "stdout",
     "output_type": "stream",
     "text": [
      "0    banana\n",
      "1        42\n",
      "dtype: object\n"
     ]
    }
   ],
   "source": [
    "#시리즈 만들기\n",
    "\n",
    "import pandas as pd\n",
    "s = pd.Series(['banana', 42])\n",
    "print(s)"
   ]
  },
  {
   "cell_type": "code",
   "execution_count": 5,
   "metadata": {},
   "outputs": [
    {
     "name": "stdout",
     "output_type": "stream",
     "text": [
      "0         Wes McKinney\n",
      "1    Creator of Pandas\n",
      "dtype: object\n",
      "Persn         Wes McKinney\n",
      "Who      Creator of Pandas\n",
      "dtype: object\n"
     ]
    }
   ],
   "source": [
    "#index를 문자열로 지정하기\n",
    "\n",
    "s =pd.Series(['Wes McKinney','Creator of Pandas'])\n",
    "print(s)\n",
    "\n",
    "#Series 메서드의 index 인자에 원하는 문자열을 리스트에 담아 전달한다\n",
    "\n",
    "s =pd.Series(['Wes McKinney','Creator of Pandas'], index= ['Persn', 'Who'])\n",
    "print(s)"
   ]
  },
  {
   "cell_type": "code",
   "execution_count": 6,
   "metadata": {},
   "outputs": [
    {
     "name": "stdout",
     "output_type": "stream",
     "text": [
      "                Name    Occupation        Born        Died  Age\n",
      "0  Rosaline Franklin       Chemist  1920-07-25  1958-04-16   37\n",
      "1     William Gosset  Statistician  1876-06-13  1937-10-16   61\n"
     ]
    }
   ],
   "source": [
    "#데이터프레임 만들기\n",
    "\n",
    "scientists = pd.DataFrame({\n",
    "    'Name' : ['Rosaline Franklin', 'William Gosset'],\n",
    "    'Occupation' : ['Chemist', 'Statistician'],\n",
    "    'Born' : ['1920-07-25', '1876-06-13'],\n",
    "    'Died' : ['1958-04-16', '1937-10-16'],\n",
    "    'Age' : [37, 61]}\n",
    ")\n",
    "\n",
    "print(scientists)"
   ]
  },
  {
   "cell_type": "code",
   "execution_count": 8,
   "metadata": {},
   "outputs": [
    {
     "name": "stdout",
     "output_type": "stream",
     "text": [
      "                     Occupation        Born  Age        Died\n",
      "Rosaline Franklin       Chemist  1920-07-25   37  1958-04-16\n",
      "William Gosset     Statistician  1876-06-13   61  1937-10-16\n"
     ]
    }
   ],
   "source": [
    "#index 를 문자열로 바꾸기 , columns 인자 활용해서 행순서 지정하기\n",
    "\n",
    "scientists = pd.DataFrame({\n",
    "    'Occupation' : ['Chemist', 'Statistician'],\n",
    "    'Born' : ['1920-07-25', '1876-06-13'],\n",
    "    'Died' : ['1958-04-16', '1937-10-16'],\n",
    "    'Age' : [37, 61]},\n",
    "    index = ['Rosaline Franklin', 'William Gosset'],\n",
    "    columns = ['Occupation', 'Born', 'Age', 'Died']\n",
    ")\n",
    "\n",
    "print(scientists)"
   ]
  },
  {
   "cell_type": "code",
   "execution_count": 10,
   "metadata": {},
   "outputs": [
    {
     "name": "stdout",
     "output_type": "stream",
     "text": [
      "                Name    Occupation        Born        Died  Age\n",
      "0  Rosaline Franklin       Chemist  1920-07-25  1958-04-16   37\n",
      "1     William Gosset  Statistician  1876-06-13  1937-10-16   61\n"
     ]
    }
   ],
   "source": [
    "#딕셔너리 형태는 순서가 없음. 데이터 순서를 보장하려면 OrderedDict 사용\n",
    "\n",
    "from collections import OrderedDict\n",
    "\n",
    "scientists = pd.DataFrame(OrderedDict([\n",
    "    ('Name' , ['Rosaline Franklin', 'William Gosset']),\n",
    "    ('Occupation' , ['Chemist', 'Statistician']),\n",
    "    ('Born' , ['1920-07-25', '1876-06-13']),\n",
    "    ('Died' , ['1958-04-16', '1937-10-16']),\n",
    "    ('Age' , [37, 61])\n",
    "])\n",
    ")\n",
    "\n",
    "print(scientists)"
   ]
  },
  {
   "cell_type": "code",
   "execution_count": 18,
   "metadata": {},
   "outputs": [
    {
     "name": "stdout",
     "output_type": "stream",
     "text": [
      "<class 'pandas.core.series.Series'> \n",
      "\n",
      "Occupation    Statistician\n",
      "Born            1876-06-13\n",
      "Age                     61\n",
      "Died            1937-10-16\n",
      "Name: William Gosset, dtype: object\n"
     ]
    }
   ],
   "source": [
    "#데이터프레임 설정\n",
    "\n",
    "scientists = pd.DataFrame(\n",
    "    data= {'Occupation' : ['Chemist', 'Statistician'],\n",
    "           'Born' : ['1920-07-25', '1876-06-13'],\n",
    "           'Died' : ['1958-04-16', '1937-10-16'],\n",
    "           'Age' : [37, 61]},\n",
    "    index = ['Rosaline Franklin', 'William Gosset'],\n",
    "    columns = ['Occupation', 'Born', 'Age', 'Died'])\n",
    "\n",
    "#데이터프레임에서 시리즈 선택하기\n",
    "\n",
    "first_row = scientists.loc['William Gosset']\n",
    "print(type(first_row),\"\\n\")\n",
    "print(first_row)"
   ]
  },
  {
   "cell_type": "code",
   "execution_count": 20,
   "metadata": {},
   "outputs": [
    {
     "name": "stdout",
     "output_type": "stream",
     "text": [
      "Index(['Occupation', 'Born', 'Age', 'Died'], dtype='object') \n",
      "\n",
      "['Statistician' '1876-06-13' 61 '1937-10-16'] \n",
      "\n",
      "Index(['Occupation', 'Born', 'Age', 'Died'], dtype='object')\n"
     ]
    }
   ],
   "source": [
    "#index 속성 사용 - index, values & 메서드- keys\n",
    "\n",
    "#인덱스\n",
    "print(first_row.index,\"\\n\")\n",
    "\n",
    "#데이터\n",
    "print(first_row.values,\"\\n\")\n",
    "\n",
    "#keys 메서드 - index 속성과 같은 역할\n",
    "print(first_row.keys())"
   ]
  },
  {
   "cell_type": "code",
   "execution_count": 21,
   "metadata": {},
   "outputs": [
    {
     "name": "stdout",
     "output_type": "stream",
     "text": [
      "Occupation \n",
      "\n",
      "Occupation \n",
      "\n"
     ]
    }
   ],
   "source": [
    "#응용\n",
    "print(first_row.index[0], \"\\n\")\n",
    "print(first_row.keys()[0], \"\\n\")"
   ]
  },
  {
   "cell_type": "code",
   "execution_count": 23,
   "metadata": {},
   "outputs": [
    {
     "name": "stdout",
     "output_type": "stream",
     "text": [
      "Rosaline Franklin    37\n",
      "William Gosset       61\n",
      "Name: Age, dtype: int64 \n",
      "\n",
      "49.0 \n",
      "\n",
      "37 \n",
      "\n",
      "61 \n",
      "\n",
      "16.97056274847714 \n",
      "\n"
     ]
    }
   ],
   "source": [
    "ages = scientists['Age']\n",
    "print(ages,\"\\n\")\n",
    "print(ages.mean(),\"\\n\")\n",
    "print(ages.min(),\"\\n\")\n",
    "print(ages.max(),\"\\n\")\n",
    "print(ages.std(),\"\\n\")"
   ]
  },
  {
   "cell_type": "markdown",
   "metadata": {},
   "source": [
    "메서드 정리 (\"Series명\".\"메서드명\"() 형태)  \n",
    "\n",
    "append : 2개 이상의 시리즈 연결  \n",
    "describe : 요약 통계량 계산  \n",
    "drop_duplicates : 중복값이 없는 시리즈 반환  \n",
    "equals : 시리즈에 해당 값을 가진 요소가 있는지 확인  \n",
    "get_values : 시리즈 값 구하기(values 속성과 동일)  \n",
    "isin : 시리즈에 포함된 값이 있는지 확인  \n",
    "min : 최솟값 반환  \n",
    "max : 최댓값 반환  \n",
    "mean : 산술 평균 반환  \n",
    "median : 중간값 반환  \n",
    "replace : 특정 값을 가진 시리즈 값을 교체  \n",
    "sample : 시리즈에서 임의의 값을 반환  \n",
    "sort_values :  값을 정렬  \n",
    "to_frame : 시리즈를 데이터프레임으로 변환  "
   ]
  },
  {
   "cell_type": "code",
   "execution_count": 25,
   "metadata": {},
   "outputs": [],
   "source": [
    "#boolean 추출하기\n",
    "\n",
    "scientists = pd.read_csv('E:\\\\jupyter\\\\doitpandas\\\\doit_pandas-master\\\\data\\\\scientists.csv')"
   ]
  },
  {
   "cell_type": "code",
   "execution_count": 29,
   "metadata": {},
   "outputs": [
    {
     "name": "stdout",
     "output_type": "stream",
     "text": [
      "90\n",
      "59.125 \n",
      "\n",
      "1    61\n",
      "2    90\n",
      "3    66\n",
      "7    77\n",
      "Name: Age, dtype: int64\n"
     ]
    }
   ],
   "source": [
    "ages = scientists['Age']\n",
    "print(ages.max())\n",
    "print(ages.mean(),\"\\n\")\n",
    "\n",
    "#평균보다 나이가 많은 사람의 데이터만 추출\n",
    "print(ages[ages>ages.mean()])"
   ]
  },
  {
   "cell_type": "code",
   "execution_count": 30,
   "metadata": {},
   "outputs": [
    {
     "name": "stdout",
     "output_type": "stream",
     "text": [
      "0    False\n",
      "1     True\n",
      "2     True\n",
      "3     True\n",
      "4    False\n",
      "5    False\n",
      "6    False\n",
      "7     True\n",
      "Name: Age, dtype: bool\n"
     ]
    }
   ],
   "source": [
    "#비교 연산자의 결과 출력 - ages > ages.mean()\n",
    "\n",
    "print(ages > ages.mean())"
   ]
  },
  {
   "cell_type": "code",
   "execution_count": 33,
   "metadata": {},
   "outputs": [
    {
     "name": "stdout",
     "output_type": "stream",
     "text": [
      "0     74\n",
      "1    122\n",
      "2    180\n",
      "3    132\n",
      "4    112\n",
      "5     90\n",
      "6     82\n",
      "7    154\n",
      "Name: Age, dtype: int64\n",
      "0    1369\n",
      "1    3721\n",
      "2    8100\n",
      "3    4356\n",
      "4    3136\n",
      "5    2025\n",
      "6    1681\n",
      "7    5929\n",
      "Name: Age, dtype: int64\n",
      "0    137\n",
      "1    161\n",
      "2    190\n",
      "3    166\n",
      "4    156\n",
      "5    145\n",
      "6    141\n",
      "7    177\n",
      "Name: Age, dtype: int64\n",
      "0     74\n",
      "1    122\n",
      "2    180\n",
      "3    132\n",
      "4    112\n",
      "5     90\n",
      "6     82\n",
      "7    154\n",
      "Name: Age, dtype: int64\n"
     ]
    }
   ],
   "source": [
    "#브로드캐스팅 - 시리즈나 데이터프레임에 있는 모든 데이터에 대해 한번에 연산하는 것\n",
    "#시리즈처럼 여러 개의 값을 가진 데이터 - 벡터\n",
    "#단순 크기를 나타내는 데이터 - 스칼라\n",
    "\n",
    "#같은 길이의 벡터로 연산 수행\n",
    "\n",
    "print(ages+ages)\n",
    "print(ages*ages)\n",
    "\n",
    "#벡터에 스칼라 연산\n",
    "\n",
    "print(ages+100)\n",
    "print(ages*2)"
   ]
  },
  {
   "cell_type": "code",
   "execution_count": 37,
   "metadata": {},
   "outputs": [
    {
     "name": "stdout",
     "output_type": "stream",
     "text": [
      "0    37\n",
      "1    61\n",
      "2    90\n",
      "3    66\n",
      "4    56\n",
      "5    45\n",
      "6    41\n",
      "7    77\n",
      "Name: Age, dtype: int64\n",
      "0      1\n",
      "1    100\n",
      "dtype: int64\n",
      "0     38.0\n",
      "1    161.0\n",
      "2      NaN\n",
      "3      NaN\n",
      "4      NaN\n",
      "5      NaN\n",
      "6      NaN\n",
      "7      NaN\n",
      "dtype: float64\n"
     ]
    }
   ],
   "source": [
    "#길이가 다른 벡터 연산\n",
    "\n",
    "#시리즈 - 시리즈 연산 : 값은 인덱스 값만 계산\n",
    "\n",
    "print(ages)\n",
    "print(pd.Series([1,100]))\n",
    "\n",
    "print(ages+pd.Series([1,100]))\n",
    "\n",
    "#NaN은 누락값"
   ]
  },
  {
   "cell_type": "code",
   "execution_count": 41,
   "metadata": {},
   "outputs": [
    {
     "name": "stdout",
     "output_type": "stream",
     "text": [
      "0    37\n",
      "1    61\n",
      "2    90\n",
      "3    66\n",
      "4    56\n",
      "5    45\n",
      "6    41\n",
      "7    77\n",
      "Name: Age, dtype: int64\n",
      "7    77\n",
      "6    41\n",
      "5    45\n",
      "4    56\n",
      "3    66\n",
      "2    90\n",
      "1    61\n",
      "0    37\n",
      "Name: Age, dtype: int64\n",
      "0     74\n",
      "1    122\n",
      "2    180\n",
      "3    132\n",
      "4    112\n",
      "5     90\n",
      "6     82\n",
      "7    154\n",
      "Name: Age, dtype: int64\n",
      "0     74\n",
      "1    122\n",
      "2    180\n",
      "3    132\n",
      "4    112\n",
      "5     90\n",
      "6     82\n",
      "7    154\n",
      "Name: Age, dtype: int64\n"
     ]
    }
   ],
   "source": [
    "#sort_index 메서드\n",
    "# 벡터끼리의 연산은 일치하는 index 값끼리 수행\n",
    "\n",
    "print(ages)\n",
    "rev_ages = ages.sort_index(ascending = False)\n",
    "print(rev_ages)\n",
    "\n",
    "print(ages*2)\n",
    "print(ages+rev_ages)"
   ]
  },
  {
   "cell_type": "code",
   "execution_count": 42,
   "metadata": {},
   "outputs": [
    {
     "name": "stdout",
     "output_type": "stream",
     "text": [
      "                   Name        Born        Died  Age     Occupation\n",
      "1        William Gosset  1876-06-13  1937-10-16   61   Statistician\n",
      "2  Florence Nightingale  1820-05-12  1910-08-13   90          Nurse\n",
      "3           Marie Curie  1867-11-07  1934-07-04   66        Chemist\n",
      "7          Johann Gauss  1777-04-30  1855-02-23   77  Mathematician\n"
     ]
    }
   ],
   "source": [
    "#데이터프레임에서 불린 추출하기\n",
    "\n",
    "#Age 열에서 Age 열 평균보다 높은 행 출력\n",
    "print(scientists[scientists['Age'] > scientists['Age'].mean()])"
   ]
  },
  {
   "cell_type": "markdown",
   "metadata": {},
   "source": [
    "참, 거짓을 담은 리스트 : bool 벡터  "
   ]
  },
  {
   "cell_type": "code",
   "execution_count": 46,
   "metadata": {},
   "outputs": [
    {
     "name": "stdout",
     "output_type": "stream",
     "text": [
      "                Name        Born        Died  Age     Occupation\n",
      "0  Rosaline Franklin  1920-07-25  1958-04-16   37        Chemist\n",
      "1     William Gosset  1876-06-13  1937-10-16   61   Statistician\n",
      "3        Marie Curie  1867-11-07  1934-07-04   66        Chemist\n",
      "4      Rachel Carson  1907-05-27  1964-04-14   56      Biologist\n",
      "5          John Snow  1813-03-15  1858-06-16   45      Physician\n",
      "7       Johann Gauss  1777-04-30  1855-02-23   77  Mathematician\n"
     ]
    }
   ],
   "source": [
    "#벡터의 길이가 다를 경우 - bool 벡터의 길이만큼 출력하지만\n",
    "#버전 차이로 인해 Error pands 0.25 이하에서만 적용됨\n",
    "\n",
    "print(scientists.loc[[True, True, False, True]*2])"
   ]
  },
  {
   "cell_type": "code",
   "execution_count": 47,
   "metadata": {},
   "outputs": [
    {
     "name": "stdout",
     "output_type": "stream",
     "text": [
      "                                       Name                  Born  \\\n",
      "0        Rosaline FranklinRosaline Franklin  1920-07-251920-07-25   \n",
      "1              William GossetWilliam Gosset  1876-06-131876-06-13   \n",
      "2  Florence NightingaleFlorence Nightingale  1820-05-121820-05-12   \n",
      "3                    Marie CurieMarie Curie  1867-11-071867-11-07   \n",
      "4                Rachel CarsonRachel Carson  1907-05-271907-05-27   \n",
      "5                        John SnowJohn Snow  1813-03-151813-03-15   \n",
      "6                    Alan TuringAlan Turing  1912-06-231912-06-23   \n",
      "7                  Johann GaussJohann Gauss  1777-04-301777-04-30   \n",
      "\n",
      "                   Died  Age                            Occupation  \n",
      "0  1958-04-161958-04-16   74                        ChemistChemist  \n",
      "1  1937-10-161937-10-16  122              StatisticianStatistician  \n",
      "2  1910-08-131910-08-13  180                            NurseNurse  \n",
      "3  1934-07-041934-07-04  132                        ChemistChemist  \n",
      "4  1964-04-141964-04-14  112                    BiologistBiologist  \n",
      "5  1858-06-161858-06-16   90                    PhysicianPhysician  \n",
      "6  1954-06-071954-06-07   82  Computer ScientistComputer Scientist  \n",
      "7  1855-02-231855-02-23  154            MathematicianMathematician  \n"
     ]
    }
   ],
   "source": [
    "#브로드캐스팅 - 데이터프레임에 스칼라 연산해보기\n",
    "# 정수 데이터 - 2배, 문자열 데이터 - 문자열이 2번\n",
    "\n",
    "print(scientists *2)"
   ]
  },
  {
   "cell_type": "code",
   "execution_count": 49,
   "metadata": {},
   "outputs": [
    {
     "name": "stdout",
     "output_type": "stream",
     "text": [
      "object\n",
      "object\n"
     ]
    }
   ],
   "source": [
    "print(scientists['Born'].dtype)\n",
    "#자료형 object = 문자열\n",
    "print(scientists['Died'].dtype)\n",
    "#자료형 object = 문자열"
   ]
  },
  {
   "cell_type": "code",
   "execution_count": 62,
   "metadata": {},
   "outputs": [
    {
     "name": "stdout",
     "output_type": "stream",
     "text": [
      "0   1920-07-25\n",
      "1   1876-06-13\n",
      "2   1820-05-12\n",
      "3   1867-11-07\n",
      "4   1907-05-27\n",
      "5   1813-03-15\n",
      "6   1912-06-23\n",
      "7   1777-04-30\n",
      "Name: Born, dtype: datetime64[ns]\n",
      "0   1958-04-16\n",
      "1   1937-10-16\n",
      "2   1910-08-13\n",
      "3   1934-07-04\n",
      "4   1964-04-14\n",
      "5   1858-06-16\n",
      "6   1954-06-07\n",
      "7   1855-02-23\n",
      "Name: Died, dtype: datetime64[ns]\n"
     ]
    }
   ],
   "source": [
    "#날짜를 문자열 데이터 -> datetime 데이터로 바꾸기\n",
    "\n",
    "#to_datetime 메서드 활용, format 지정\n",
    "\n",
    "born_datetime = pd.to_datetime(scientists['Born'], format='%Y-%m-%d')\n",
    "died_datetime = pd.to_datetime(scientists['Died'], format='%Y-%m-%d')\n",
    "print(born_datetime)\n",
    "print(died_datetime)\n",
    "#dtype이 datetime이 된 것을 확인"
   ]
  },
  {
   "cell_type": "code",
   "execution_count": 64,
   "metadata": {},
   "outputs": [
    {
     "name": "stdout",
     "output_type": "stream",
     "text": [
      "                   Name        Born        Died  Age    Occupation    born_dt  \\\n",
      "0     Rosaline Franklin  1920-07-25  1958-04-16   37       Chemist 1920-07-25   \n",
      "1        William Gosset  1876-06-13  1937-10-16   61  Statistician 1876-06-13   \n",
      "2  Florence Nightingale  1820-05-12  1910-08-13   90         Nurse 1820-05-12   \n",
      "3           Marie Curie  1867-11-07  1934-07-04   66       Chemist 1867-11-07   \n",
      "4         Rachel Carson  1907-05-27  1964-04-14   56     Biologist 1907-05-27   \n",
      "\n",
      "     died_dt  \n",
      "0 1958-04-16  \n",
      "1 1937-10-16  \n",
      "2 1910-08-13  \n",
      "3 1934-07-04  \n",
      "4 1964-04-14  \n",
      "(8, 7)\n",
      "                   Name        Born        Died  Age    Occupation\n",
      "0     Rosaline Franklin  1920-07-25  1958-04-16   37       Chemist\n",
      "1        William Gosset  1876-06-13  1937-10-16   61  Statistician\n",
      "2  Florence Nightingale  1820-05-12  1910-08-13   90         Nurse\n",
      "3           Marie Curie  1867-11-07  1934-07-04   66       Chemist\n",
      "4         Rachel Carson  1907-05-27  1964-04-14   56     Biologist\n",
      "(8, 5)\n"
     ]
    }
   ],
   "source": [
    "#데이터 프레임에 새로운 열 추가하기\n",
    "\n",
    "\n",
    "scientists['born_dt'],scientists['died_dt'] = (born_datetime, died_datetime)\n",
    "print(scientists.head())\n",
    "print(scientists.shape)\n",
    "\n",
    "#데이터 프레임 열 삭제하기 - axis로 행/열 삭제 여부 판단\n",
    "\n",
    "scientists = scientists.drop(['born_dt', 'died_dt'], axis = 'columns')\n",
    "print(scientists.head())\n",
    "print(scientists.shape)"
   ]
  },
  {
   "cell_type": "code",
   "execution_count": 67,
   "metadata": {},
   "outputs": [
    {
     "name": "stdout",
     "output_type": "stream",
     "text": [
      "     born_dt    died_dt age_days_dt\n",
      "0 1920-07-25 1958-04-16  13779 days\n",
      "1 1876-06-13 1937-10-16  22404 days\n",
      "2 1820-05-12 1910-08-13  32964 days\n",
      "3 1867-11-07 1934-07-04  24345 days\n",
      "4 1907-05-27 1964-04-14  20777 days\n",
      "5 1813-03-15 1858-06-16  16529 days\n",
      "6 1912-06-23 1954-06-07  15324 days\n",
      "7 1777-04-30 1855-02-23  28422 days\n"
     ]
    }
   ],
   "source": [
    "#datetime 자료형 연산\n",
    "\n",
    "scientists['born_dt'],scientists['died_dt'] = (born_datetime, died_datetime)\n",
    "\n",
    "scientists['age_days_dt'] = scientists['died_dt'] - scientists['born_dt']\n",
    "\n",
    "print(scientists[['born_dt', 'died_dt', 'age_days_dt']])"
   ]
  },
  {
   "cell_type": "code",
   "execution_count": 79,
   "metadata": {},
   "outputs": [
    {
     "name": "stdout",
     "output_type": "stream",
     "text": [
      "0    77\n",
      "1    90\n",
      "2    37\n",
      "3    61\n",
      "4    41\n",
      "5    45\n",
      "6    66\n",
      "7    56\n",
      "Name: Age, dtype: int64\n"
     ]
    }
   ],
   "source": [
    "#random 으로 데이터 섞기\n",
    "\n",
    "import random\n",
    "\n",
    "random.seed(42)\n",
    "random.shuffle(scientists['Age'])\n",
    "print(scientists['Age'])\n",
    "\n",
    "#매번 다른 값이 나옴"
   ]
  },
  {
   "cell_type": "markdown",
   "metadata": {},
   "source": [
    "pickle이란?  \n",
    "피클은 데이터를 바이너리 형태로 직렬화한 오브젝트를 저장하는 방법  \n",
    "스프레드시트보다 더 작은 용량으로 데이터 저장 가능  \n",
    "\n",
    "to_pickle 메서드를 사용해서 시리즈를 피클로 저장  \n",
    "피클 데이터를 읽을 때는 read_pickle 메서드로 읽어야 함."
   ]
  },
  {
   "cell_type": "code",
   "execution_count": 83,
   "metadata": {},
   "outputs": [
    {
     "name": "stdout",
     "output_type": "stream",
     "text": [
      "0       Rosaline Franklin\n",
      "1          William Gosset\n",
      "2    Florence Nightingale\n",
      "3             Marie Curie\n",
      "4           Rachel Carson\n",
      "5               John Snow\n",
      "6             Alan Turing\n",
      "7            Johann Gauss\n",
      "Name: Name, dtype: object\n",
      "                   Name        Born        Died  Age          Occupation  \\\n",
      "0     Rosaline Franklin  1920-07-25  1958-04-16   77             Chemist   \n",
      "1        William Gosset  1876-06-13  1937-10-16   90        Statistician   \n",
      "2  Florence Nightingale  1820-05-12  1910-08-13   37               Nurse   \n",
      "3           Marie Curie  1867-11-07  1934-07-04   61             Chemist   \n",
      "4         Rachel Carson  1907-05-27  1964-04-14   41           Biologist   \n",
      "5             John Snow  1813-03-15  1858-06-16   45           Physician   \n",
      "6           Alan Turing  1912-06-23  1954-06-07   66  Computer Scientist   \n",
      "7          Johann Gauss  1777-04-30  1855-02-23   56       Mathematician   \n",
      "\n",
      "     born_dt    died_dt age_days_dt  \n",
      "0 1920-07-25 1958-04-16  13779 days  \n",
      "1 1876-06-13 1937-10-16  22404 days  \n",
      "2 1820-05-12 1910-08-13  32964 days  \n",
      "3 1867-11-07 1934-07-04  24345 days  \n",
      "4 1907-05-27 1964-04-14  20777 days  \n",
      "5 1813-03-15 1858-06-16  16529 days  \n",
      "6 1912-06-23 1954-06-07  15324 days  \n",
      "7 1777-04-30 1855-02-23  28422 days  \n"
     ]
    }
   ],
   "source": [
    "#pickle 형태로 저장\n",
    "\n",
    "#시리즈를 pickle 형태로\n",
    "names = scientists['Name']\n",
    "names.to_pickle('E:\\\\jupyter\\\\doitpandas\\\\scientists_names_series.pickle')\n",
    "\n",
    "#데이터프레임을 pickle 형태로\n",
    "scientists.to_pickle('E:\\\\jupyter\\\\doitpandas\\\\scientists_df.pickle')\n",
    "\n",
    "#출력\n",
    "\n",
    "scientists_names_from_pickle = pd.read_pickle('E:\\\\jupyter\\\\doitpandas\\\\scientists_names_series.pickle')\n",
    "print(scientists_names_from_pickle)\n",
    "\n",
    "scientists_names_from_pickle = pd.read_pickle('E:\\\\jupyter\\\\doitpandas\\\\scientists_df.pickle')\n",
    "print(scientists_names_from_pickle)"
   ]
  },
  {
   "cell_type": "markdown",
   "metadata": {},
   "source": [
    "CSV 파일 : 데이터를 쉼표로 구분  \n",
    "TSV 파일 : 데이터를 탭으로 구분"
   ]
  },
  {
   "cell_type": "markdown",
   "metadata": {},
   "source": [
    "to_csv 메서드로 저장 가능  \n",
    "sep 인자 활용하여 '\\t' 추가하여 tsv 형태로 저장가능"
   ]
  },
  {
   "cell_type": "markdown",
   "metadata": {},
   "source": [
    "엑셀 파일로 저장하기  \n",
    "\n",
    "pip install xlwt  \n",
    "pip install openpyxl\n",
    "\n",
    "names_df = names.to_frame()  \n",
    "\n",
    "import xlwt  \n",
    "names_df.to_excel(\"경로/파일명.xls\")  \n",
    "\n",
    "import openpyxl  \n",
    "names_df.to_excel(\"경로/파일명.xlsx\")"
   ]
  }
 ],
 "metadata": {
  "kernelspec": {
   "display_name": "Python 3",
   "language": "python",
   "name": "python3"
  },
  "language_info": {
   "codemirror_mode": {
    "name": "ipython",
    "version": 3
   },
   "file_extension": ".py",
   "mimetype": "text/x-python",
   "name": "python",
   "nbconvert_exporter": "python",
   "pygments_lexer": "ipython3",
   "version": "3.8.5"
  }
 },
 "nbformat": 4,
 "nbformat_minor": 4
}
