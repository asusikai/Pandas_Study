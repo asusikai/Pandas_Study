{
 "cells": [
  {
   "cell_type": "code",
   "execution_count": null,
   "metadata": {
    "scrolled": true
   },
   "outputs": [],
   "source": [
    "\n",
    "amount_kg = int(input())\n",
    "\n",
    "five_count = 0\n",
    "three_count = 0\n",
    "\n",
    "while(amount_kg-3>=0):\n",
    "    if(amount_kg%5==0):\n",
    "        five_count= five_count+1\n",
    "        amount_kg = amount_kg-5\n",
    "    \n",
    "    else:\n",
    "        three_count= three_count+1\n",
    "        amount_kg= amount_kg-3\n",
    "\n",
    "if(amount_kg != 0):\n",
    "    print(\"-1\")\n",
    "    \n",
    "else:\n",
    "    print(five_count+three_count)\n",
    "    \n",
    "            "
   ]
  },
  {
   "cell_type": "code",
   "execution_count": null,
   "metadata": {},
   "outputs": [],
   "source": []
  }
 ],
 "metadata": {
  "kernelspec": {
   "display_name": "Python 3",
   "language": "python",
   "name": "python3"
  },
  "language_info": {
   "codemirror_mode": {
    "name": "ipython",
    "version": 3
   },
   "file_extension": ".py",
   "mimetype": "text/x-python",
   "name": "python",
   "nbconvert_exporter": "python",
   "pygments_lexer": "ipython3",
   "version": "3.7.3"
  }
 },
 "nbformat": 4,
 "nbformat_minor": 2
}
